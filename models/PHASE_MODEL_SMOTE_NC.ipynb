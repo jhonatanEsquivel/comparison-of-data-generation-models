{
 "cells": [
  {
   "cell_type": "markdown",
   "id": "intro",
   "metadata": {},
   "source": [
    "# Evaluación de Modelos de Clasificación usando SMOTE-NC\n",
    "\n",
    "Este notebook evalúa el rendimiento de diferentes clasificadores aplicando SMOTE-NC para balancear un dataset desbalanceado. La evaluación incluye métricas como Accuracy, Recall, F1-Score, AUC-ROC, Specificity, y MCC."
   ]
  },
  {
   "cell_type": "markdown",
   "id": "obtain-vars",
   "metadata": {},
   "source": [
    "## 1. Carga de Datos y Configuración Inicial\n",
    "Se cargan los datos de entrenamiento y prueba, y se identifican las columnas categóricas necesarias para SMOTE-NC."
   ]
  },
  {
   "cell_type": "code",
   "execution_count": 4,
   "id": "fce03027-19d2-41de-b889-07224dc93207",
   "metadata": {},
   "outputs": [],
   "source": [
    "import pandas as pd\n",
    "from sklearn.preprocessing import LabelEncoder"
   ]
  },
  {
   "cell_type": "code",
   "execution_count": 5,
   "id": "load-vars",
   "metadata": {},
   "outputs": [],
   "source": [
    "# Cargar los conjuntos de entrenamiento y prueba\n",
    "X_train = pd.read_csv('X_train.csv')\n",
    "X_test = pd.read_csv('X_test.csv')\n",
    "y_train = pd.read_csv('y_train.csv')\n",
    "y_test = pd.read_csv('y_test.csv')"
   ]
  },
  {
   "cell_type": "code",
   "execution_count": 6,
   "id": "fd8c0ec9-283e-4ee4-9d59-36734ddd1aac",
   "metadata": {},
   "outputs": [],
   "source": [
    "categorical_columns = ['Gender', 'Smoking', 'Hx Smoking', 'Hx Radiothreapy', 'Thyroid Function', \n",
    "                       'Physical Examination', 'Adenopathy', 'Pathology', 'Focality', 'Risk', \n",
    "                       'T', 'N', 'M', 'Stage', 'Response']"
   ]
  },
  {
   "cell_type": "code",
   "execution_count": 7,
   "id": "8ce0bd1d-6392-4e7e-a465-de0610f43d21",
   "metadata": {},
   "outputs": [
    {
     "name": "stdout",
     "output_type": "stream",
     "text": [
      "Índices de las columnas categóricas: [1, 2, 3, 4, 5, 6, 7, 8, 9, 10, 11, 12, 13, 14, 15]\n"
     ]
    }
   ],
   "source": [
    "# Obtener índices de columnas categóricas\n",
    "categorical_indices = [X_train.columns.get_loc(col) for col in categorical_columns]\n",
    "print(f\"Índices de las columnas categóricas: {categorical_indices}\")"
   ]
  },
  {
   "cell_type": "markdown",
   "id": "smote-nc",
   "metadata": {},
   "source": [
    "## 2. Optimización de Hiperparámetros de SMOTE-NC\n",
    "Usamos `GridSearchCV` para encontrar los mejores parámetros del modelo SMOTE-NC basado en AUC-ROC."
   ]
  },
  {
   "cell_type": "code",
   "execution_count": 8,
   "id": "smote-optimization",
   "metadata": {},
   "outputs": [],
   "source": [
    "from imblearn.over_sampling import SMOTENC\n",
    "from sklearn.linear_model import LogisticRegression\n",
    "from imblearn.pipeline import make_pipeline\n",
    "from sklearn.model_selection import GridSearchCV\n",
    "from sklearn.metrics import make_scorer, roc_auc_score"
   ]
  },
  {
   "cell_type": "code",
   "execution_count": 9,
   "id": "c4755268-d60d-434c-b15d-0777b2a6d158",
   "metadata": {},
   "outputs": [],
   "source": [
    "# Asegurar que las variables objetivo sean unidimensionales\n",
    "y_train = y_train.to_numpy().ravel()\n",
    "y_test = y_test.to_numpy().ravel()"
   ]
  },
  {
   "cell_type": "code",
   "execution_count": 10,
   "id": "277bd6ad-7601-4513-bed1-8349d3bd0a82",
   "metadata": {},
   "outputs": [],
   "source": [
    "# Configurar SMOTE-NC y pipeline con Logistic Regression\n",
    "smote_nc = SMOTENC(categorical_features=categorical_indices, random_state=42)\n",
    "log_reg = LogisticRegression(max_iter=1000, random_state=42)\n",
    "pipeline = make_pipeline(smote_nc, log_reg)"
   ]
  },
  {
   "cell_type": "code",
   "execution_count": 11,
   "id": "cf544e5a-a1b5-4a05-981f-5c40e921a0f1",
   "metadata": {},
   "outputs": [],
   "source": [
    "# Hiperparámetros para optimizar\n",
    "param_grid_smotenc = {\n",
    "    'smotenc__k_neighbors': [3, 5, 7, 9],\n",
    "    'smotenc__sampling_strategy': [0.5, 0.7, 1.0]\n",
    "}"
   ]
  },
  {
   "cell_type": "code",
   "execution_count": 12,
   "id": "ad21f66d-ca35-4002-8ce5-50bdef3430d7",
   "metadata": {},
   "outputs": [
    {
     "name": "stdout",
     "output_type": "stream",
     "text": [
      "Fitting 5 folds for each of 12 candidates, totalling 60 fits\n"
     ]
    },
    {
     "data": {
      "text/html": [
       "<style>#sk-container-id-1 {color: black;background-color: white;}#sk-container-id-1 pre{padding: 0;}#sk-container-id-1 div.sk-toggleable {background-color: white;}#sk-container-id-1 label.sk-toggleable__label {cursor: pointer;display: block;width: 100%;margin-bottom: 0;padding: 0.3em;box-sizing: border-box;text-align: center;}#sk-container-id-1 label.sk-toggleable__label-arrow:before {content: \"▸\";float: left;margin-right: 0.25em;color: #696969;}#sk-container-id-1 label.sk-toggleable__label-arrow:hover:before {color: black;}#sk-container-id-1 div.sk-estimator:hover label.sk-toggleable__label-arrow:before {color: black;}#sk-container-id-1 div.sk-toggleable__content {max-height: 0;max-width: 0;overflow: hidden;text-align: left;background-color: #f0f8ff;}#sk-container-id-1 div.sk-toggleable__content pre {margin: 0.2em;color: black;border-radius: 0.25em;background-color: #f0f8ff;}#sk-container-id-1 input.sk-toggleable__control:checked~div.sk-toggleable__content {max-height: 200px;max-width: 100%;overflow: auto;}#sk-container-id-1 input.sk-toggleable__control:checked~label.sk-toggleable__label-arrow:before {content: \"▾\";}#sk-container-id-1 div.sk-estimator input.sk-toggleable__control:checked~label.sk-toggleable__label {background-color: #d4ebff;}#sk-container-id-1 div.sk-label input.sk-toggleable__control:checked~label.sk-toggleable__label {background-color: #d4ebff;}#sk-container-id-1 input.sk-hidden--visually {border: 0;clip: rect(1px 1px 1px 1px);clip: rect(1px, 1px, 1px, 1px);height: 1px;margin: -1px;overflow: hidden;padding: 0;position: absolute;width: 1px;}#sk-container-id-1 div.sk-estimator {font-family: monospace;background-color: #f0f8ff;border: 1px dotted black;border-radius: 0.25em;box-sizing: border-box;margin-bottom: 0.5em;}#sk-container-id-1 div.sk-estimator:hover {background-color: #d4ebff;}#sk-container-id-1 div.sk-parallel-item::after {content: \"\";width: 100%;border-bottom: 1px solid gray;flex-grow: 1;}#sk-container-id-1 div.sk-label:hover label.sk-toggleable__label {background-color: #d4ebff;}#sk-container-id-1 div.sk-serial::before {content: \"\";position: absolute;border-left: 1px solid gray;box-sizing: border-box;top: 0;bottom: 0;left: 50%;z-index: 0;}#sk-container-id-1 div.sk-serial {display: flex;flex-direction: column;align-items: center;background-color: white;padding-right: 0.2em;padding-left: 0.2em;position: relative;}#sk-container-id-1 div.sk-item {position: relative;z-index: 1;}#sk-container-id-1 div.sk-parallel {display: flex;align-items: stretch;justify-content: center;background-color: white;position: relative;}#sk-container-id-1 div.sk-item::before, #sk-container-id-1 div.sk-parallel-item::before {content: \"\";position: absolute;border-left: 1px solid gray;box-sizing: border-box;top: 0;bottom: 0;left: 50%;z-index: -1;}#sk-container-id-1 div.sk-parallel-item {display: flex;flex-direction: column;z-index: 1;position: relative;background-color: white;}#sk-container-id-1 div.sk-parallel-item:first-child::after {align-self: flex-end;width: 50%;}#sk-container-id-1 div.sk-parallel-item:last-child::after {align-self: flex-start;width: 50%;}#sk-container-id-1 div.sk-parallel-item:only-child::after {width: 0;}#sk-container-id-1 div.sk-dashed-wrapped {border: 1px dashed gray;margin: 0 0.4em 0.5em 0.4em;box-sizing: border-box;padding-bottom: 0.4em;background-color: white;}#sk-container-id-1 div.sk-label label {font-family: monospace;font-weight: bold;display: inline-block;line-height: 1.2em;}#sk-container-id-1 div.sk-label-container {text-align: center;}#sk-container-id-1 div.sk-container {/* jupyter's `normalize.less` sets `[hidden] { display: none; }` but bootstrap.min.css set `[hidden] { display: none !important; }` so we also need the `!important` here to be able to override the default hidden behavior on the sphinx rendered scikit-learn.org. See: https://github.com/scikit-learn/scikit-learn/issues/21755 */display: inline-block !important;position: relative;}#sk-container-id-1 div.sk-text-repr-fallback {display: none;}</style><div id=\"sk-container-id-1\" class=\"sk-top-container\"><div class=\"sk-text-repr-fallback\"><pre>GridSearchCV(cv=5,\n",
       "             estimator=Pipeline(steps=[(&#x27;smotenc&#x27;,\n",
       "                                        SMOTENC(categorical_features=[1, 2, 3,\n",
       "                                                                      4, 5, 6,\n",
       "                                                                      7, 8, 9,\n",
       "                                                                      10, 11,\n",
       "                                                                      12, 13,\n",
       "                                                                      14, 15],\n",
       "                                                random_state=42)),\n",
       "                                       (&#x27;logisticregression&#x27;,\n",
       "                                        LogisticRegression(max_iter=1000,\n",
       "                                                           random_state=42))]),\n",
       "             n_jobs=-1,\n",
       "             param_grid={&#x27;smotenc__k_neighbors&#x27;: [3, 5, 7, 9],\n",
       "                         &#x27;smotenc__sampling_strategy&#x27;: [0.5, 0.7, 1.0]},\n",
       "             scoring=make_scorer(roc_auc_score), verbose=1)</pre><b>In a Jupyter environment, please rerun this cell to show the HTML representation or trust the notebook. <br />On GitHub, the HTML representation is unable to render, please try loading this page with nbviewer.org.</b></div><div class=\"sk-container\" hidden><div class=\"sk-item sk-dashed-wrapped\"><div class=\"sk-label-container\"><div class=\"sk-label sk-toggleable\"><input class=\"sk-toggleable__control sk-hidden--visually\" id=\"sk-estimator-id-1\" type=\"checkbox\" ><label for=\"sk-estimator-id-1\" class=\"sk-toggleable__label sk-toggleable__label-arrow\">GridSearchCV</label><div class=\"sk-toggleable__content\"><pre>GridSearchCV(cv=5,\n",
       "             estimator=Pipeline(steps=[(&#x27;smotenc&#x27;,\n",
       "                                        SMOTENC(categorical_features=[1, 2, 3,\n",
       "                                                                      4, 5, 6,\n",
       "                                                                      7, 8, 9,\n",
       "                                                                      10, 11,\n",
       "                                                                      12, 13,\n",
       "                                                                      14, 15],\n",
       "                                                random_state=42)),\n",
       "                                       (&#x27;logisticregression&#x27;,\n",
       "                                        LogisticRegression(max_iter=1000,\n",
       "                                                           random_state=42))]),\n",
       "             n_jobs=-1,\n",
       "             param_grid={&#x27;smotenc__k_neighbors&#x27;: [3, 5, 7, 9],\n",
       "                         &#x27;smotenc__sampling_strategy&#x27;: [0.5, 0.7, 1.0]},\n",
       "             scoring=make_scorer(roc_auc_score), verbose=1)</pre></div></div></div><div class=\"sk-parallel\"><div class=\"sk-parallel-item\"><div class=\"sk-item\"><div class=\"sk-label-container\"><div class=\"sk-label sk-toggleable\"><input class=\"sk-toggleable__control sk-hidden--visually\" id=\"sk-estimator-id-2\" type=\"checkbox\" ><label for=\"sk-estimator-id-2\" class=\"sk-toggleable__label sk-toggleable__label-arrow\">estimator: Pipeline</label><div class=\"sk-toggleable__content\"><pre>Pipeline(steps=[(&#x27;smotenc&#x27;,\n",
       "                 SMOTENC(categorical_features=[1, 2, 3, 4, 5, 6, 7, 8, 9, 10,\n",
       "                                               11, 12, 13, 14, 15],\n",
       "                         random_state=42)),\n",
       "                (&#x27;logisticregression&#x27;,\n",
       "                 LogisticRegression(max_iter=1000, random_state=42))])</pre></div></div></div><div class=\"sk-serial\"><div class=\"sk-item\"><div class=\"sk-serial\"><div class=\"sk-item\"><div class=\"sk-estimator sk-toggleable\"><input class=\"sk-toggleable__control sk-hidden--visually\" id=\"sk-estimator-id-3\" type=\"checkbox\" ><label for=\"sk-estimator-id-3\" class=\"sk-toggleable__label sk-toggleable__label-arrow\">SMOTENC</label><div class=\"sk-toggleable__content\"><pre>SMOTENC(categorical_features=[1, 2, 3, 4, 5, 6, 7, 8, 9, 10, 11, 12, 13, 14,\n",
       "                              15],\n",
       "        random_state=42)</pre></div></div></div><div class=\"sk-item\"><div class=\"sk-estimator sk-toggleable\"><input class=\"sk-toggleable__control sk-hidden--visually\" id=\"sk-estimator-id-4\" type=\"checkbox\" ><label for=\"sk-estimator-id-4\" class=\"sk-toggleable__label sk-toggleable__label-arrow\">LogisticRegression</label><div class=\"sk-toggleable__content\"><pre>LogisticRegression(max_iter=1000, random_state=42)</pre></div></div></div></div></div></div></div></div></div></div></div></div>"
      ],
      "text/plain": [
       "GridSearchCV(cv=5,\n",
       "             estimator=Pipeline(steps=[('smotenc',\n",
       "                                        SMOTENC(categorical_features=[1, 2, 3,\n",
       "                                                                      4, 5, 6,\n",
       "                                                                      7, 8, 9,\n",
       "                                                                      10, 11,\n",
       "                                                                      12, 13,\n",
       "                                                                      14, 15],\n",
       "                                                random_state=42)),\n",
       "                                       ('logisticregression',\n",
       "                                        LogisticRegression(max_iter=1000,\n",
       "                                                           random_state=42))]),\n",
       "             n_jobs=-1,\n",
       "             param_grid={'smotenc__k_neighbors': [3, 5, 7, 9],\n",
       "                         'smotenc__sampling_strategy': [0.5, 0.7, 1.0]},\n",
       "             scoring=make_scorer(roc_auc_score), verbose=1)"
      ]
     },
     "execution_count": 12,
     "metadata": {},
     "output_type": "execute_result"
    }
   ],
   "source": [
    "# GridSearchCV para encontrar mejores parámetros\n",
    "grid_search = GridSearchCV(pipeline, param_grid_smotenc, cv=5, scoring=make_scorer(roc_auc_score), n_jobs=-1, verbose=1)\n",
    "grid_search.fit(X_train, y_train)"
   ]
  },
  {
   "cell_type": "code",
   "execution_count": 13,
   "id": "c2c4a25a-b553-4b83-b353-f999807ed71d",
   "metadata": {},
   "outputs": [
    {
     "name": "stdout",
     "output_type": "stream",
     "text": [
      "Mejores parámetros para SMOTE-NC:\n",
      "{'smotenc__k_neighbors': 5, 'smotenc__sampling_strategy': 1.0}\n"
     ]
    }
   ],
   "source": [
    "# Imprimir los mejores parámetros\n",
    "print(\"Mejores parámetros para SMOTE-NC:\")\n",
    "print(grid_search.best_params_)"
   ]
  },
  {
   "cell_type": "code",
   "execution_count": 14,
   "id": "3f5b6cf5-c226-4aea-b40b-a99025a792e5",
   "metadata": {},
   "outputs": [
    {
     "name": "stdout",
     "output_type": "stream",
     "text": [
      "AUC-ROC en el conjunto de prueba: 0.9628\n"
     ]
    }
   ],
   "source": [
    "# Evaluar el modelo en el conjunto de prueba\n",
    "y_pred_prob = grid_search.predict_proba(X_test)[:, 1]\n",
    "auc_roc = roc_auc_score(y_test, y_pred_prob)\n",
    "print(f\"AUC-ROC en el conjunto de prueba: {auc_roc:.4f}\")"
   ]
  },
  {
   "cell_type": "markdown",
   "id": "train-classifiers",
   "metadata": {},
   "source": [
    "## 3. Evaluación de Clasificadores con Datos Sintéticos\n",
    "Usamos los datos generados con los mejores parámetros de SMOTE-NC para entrenar clasificadores y evaluar su desempeño en el conjunto de prueba original."
   ]
  },
  {
   "cell_type": "code",
   "execution_count": 15,
   "id": "evaluate-classifiers",
   "metadata": {},
   "outputs": [],
   "source": [
    "from sklearn.ensemble import RandomForestClassifier\n",
    "from sklearn.neural_network import MLPClassifier\n",
    "from sklearn.metrics import accuracy_score, recall_score, f1_score, roc_auc_score, confusion_matrix, matthews_corrcoef"
   ]
  },
  {
   "cell_type": "code",
   "execution_count": 16,
   "id": "6951af9e-550e-4a1a-81bd-b1fd41329c5f",
   "metadata": {},
   "outputs": [],
   "source": [
    "# Generar datos sintéticos con los mejores parámetros\n",
    "best_smote_nc = SMOTENC(categorical_features=categorical_indices, k_neighbors=grid_search.best_params_['smotenc__k_neighbors'],\n",
    "                        sampling_strategy=grid_search.best_params_['smotenc__sampling_strategy'], random_state=42)\n",
    "X_synthetic, y_synthetic = best_smote_nc.fit_resample(X_train, y_train)"
   ]
  },
  {
   "cell_type": "code",
   "execution_count": 17,
   "id": "4bd9c451-4835-49fc-994e-588de477744d",
   "metadata": {},
   "outputs": [],
   "source": [
    "# Definir clasificadores\n",
    "classifiers = {\n",
    "    'Random Forest': RandomForestClassifier(random_state=42),\n",
    "    'MLP': MLPClassifier(random_state=42, max_iter=1000),\n",
    "    'Logistic Regression': LogisticRegression(max_iter=1000, random_state=42)\n",
    "}"
   ]
  },
  {
   "cell_type": "code",
   "execution_count": 18,
   "id": "53d3177a-a546-4fea-a19a-69c5bdaff1f6",
   "metadata": {},
   "outputs": [],
   "source": [
    "# Lista para guardar los resultados\n",
    "results = []"
   ]
  },
  {
   "cell_type": "code",
   "execution_count": 19,
   "id": "50472659-d176-4849-b177-cd294ebdd931",
   "metadata": {},
   "outputs": [],
   "source": [
    "# Entrenar y evaluar clasificadores\n",
    "for name, clf in classifiers.items():\n",
    "    clf.fit(X_synthetic, y_synthetic)\n",
    "    y_pred = clf.predict(X_test)\n",
    "    y_pred_prob = clf.predict_proba(X_test)[:, 1]\n",
    "    \n",
    "    # Calcular métricas\n",
    "    accuracy = accuracy_score(y_test, y_pred)\n",
    "    recall = recall_score(y_test, y_pred)\n",
    "    f1 = f1_score(y_test, y_pred)\n",
    "    auc_roc = roc_auc_score(y_test, y_pred_prob)\n",
    "    tn, fp, fn, tp = confusion_matrix(y_test, y_pred).ravel()\n",
    "    specificity = tn / (tn + fp)\n",
    "    mcc = matthews_corrcoef(y_test, y_pred)\n",
    "    \n",
    "    # Guardar resultados\n",
    "    results.append({\n",
    "        'Modelo': name,\n",
    "        'Accuracy': accuracy,\n",
    "        'Recall': recall,\n",
    "        'F1-Score': f1,\n",
    "        'AUC-ROC': auc_roc,\n",
    "        'Specificity': specificity,\n",
    "        'MCC': mcc\n",
    "    })"
   ]
  },
  {
   "cell_type": "code",
   "execution_count": 20,
   "id": "fdadcd5f-275e-4f0f-bafe-ce0754beaf36",
   "metadata": {},
   "outputs": [
    {
     "data": {
      "text/html": [
       "<div>\n",
       "<style scoped>\n",
       "    .dataframe tbody tr th:only-of-type {\n",
       "        vertical-align: middle;\n",
       "    }\n",
       "\n",
       "    .dataframe tbody tr th {\n",
       "        vertical-align: top;\n",
       "    }\n",
       "\n",
       "    .dataframe thead th {\n",
       "        text-align: right;\n",
       "    }\n",
       "</style>\n",
       "<table border=\"1\" class=\"dataframe\">\n",
       "  <thead>\n",
       "    <tr style=\"text-align: right;\">\n",
       "      <th></th>\n",
       "      <th>Modelo</th>\n",
       "      <th>Accuracy</th>\n",
       "      <th>Recall</th>\n",
       "      <th>F1-Score</th>\n",
       "      <th>AUC-ROC</th>\n",
       "      <th>Specificity</th>\n",
       "      <th>MCC</th>\n",
       "    </tr>\n",
       "  </thead>\n",
       "  <tbody>\n",
       "    <tr>\n",
       "      <th>0</th>\n",
       "      <td>Random Forest</td>\n",
       "      <td>0.961039</td>\n",
       "      <td>0.863636</td>\n",
       "      <td>0.926829</td>\n",
       "      <td>0.986364</td>\n",
       "      <td>1.000000</td>\n",
       "      <td>0.904967</td>\n",
       "    </tr>\n",
       "    <tr>\n",
       "      <th>1</th>\n",
       "      <td>MLP</td>\n",
       "      <td>0.909091</td>\n",
       "      <td>0.909091</td>\n",
       "      <td>0.851064</td>\n",
       "      <td>0.975207</td>\n",
       "      <td>0.909091</td>\n",
       "      <td>0.789352</td>\n",
       "    </tr>\n",
       "    <tr>\n",
       "      <th>2</th>\n",
       "      <td>Logistic Regression</td>\n",
       "      <td>0.922078</td>\n",
       "      <td>0.909091</td>\n",
       "      <td>0.869565</td>\n",
       "      <td>0.962810</td>\n",
       "      <td>0.927273</td>\n",
       "      <td>0.815726</td>\n",
       "    </tr>\n",
       "  </tbody>\n",
       "</table>\n",
       "</div>"
      ],
      "text/plain": [
       "                Modelo  Accuracy    Recall  F1-Score   AUC-ROC  Specificity  \\\n",
       "0        Random Forest  0.961039  0.863636  0.926829  0.986364     1.000000   \n",
       "1                  MLP  0.909091  0.909091  0.851064  0.975207     0.909091   \n",
       "2  Logistic Regression  0.922078  0.909091  0.869565  0.962810     0.927273   \n",
       "\n",
       "        MCC  \n",
       "0  0.904967  \n",
       "1  0.789352  \n",
       "2  0.815726  "
      ]
     },
     "execution_count": 20,
     "metadata": {},
     "output_type": "execute_result"
    }
   ],
   "source": [
    "# Convertir resultados a DataFrame y guardar\n",
    "results_df = pd.DataFrame(results)\n",
    "results_df.to_csv('resultados_clasificadores_smote_nc.csv', index=False)\n",
    "results_df"
   ]
  }
 ],
 "metadata": {
  "kernelspec": {
   "display_name": "Python 3 (ipykernel)",
   "language": "python",
   "name": "python3"
  },
  "language_info": {
   "codemirror_mode": {
    "name": "ipython",
    "version": 3
   },
   "file_extension": ".py",
   "mimetype": "text/x-python",
   "name": "python",
   "nbconvert_exporter": "python",
   "pygments_lexer": "ipython3",
   "version": "3.10.12"
  }
 },
 "nbformat": 4,
 "nbformat_minor": 5
}
