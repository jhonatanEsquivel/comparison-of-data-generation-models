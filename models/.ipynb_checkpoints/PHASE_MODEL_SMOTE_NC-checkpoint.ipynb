{
 "cells": [
  {
   "cell_type": "markdown",
   "id": "intro",
   "metadata": {},
   "source": [
    "# Evaluación de Modelos de Clasificación usando SMOTE-NC\n",
    "\n",
    "Este notebook evalúa el rendimiento de diferentes clasificadores aplicando SMOTE-NC para balancear un dataset desbalanceado. La evaluación incluye métricas como Accuracy, Recall, F1-Score, AUC-ROC, Specificity, y MCC."
   ]
  },
  {
   "cell_type": "markdown",
   "id": "obtain-vars",
   "metadata": {},
   "source": [
    "## 1. Carga de Datos y Configuración Inicial\n",
    "Se cargan los datos de entrenamiento y prueba, y se identifican las columnas categóricas necesarias para SMOTE-NC."
   ]
  },
  {
   "cell_type": "code",
   "execution_count": 1,
   "id": "load-vars",
   "metadata": {},
   "outputs": [],
   "source": [
    "import pandas as pd\n",
    "from sklearn.preprocessing import LabelEncoder\n",
    "\n",
    "# Cargar los conjuntos de entrenamiento y prueba\n",
    "X_train = pd.read_csv('X_train.csv')\n",
    "X_test = pd.read_csv('X_test.csv')\n",
    "y_train = pd.read_csv('y_train.csv')\n",
    "y_test = pd.read_csv('y_test.csv')\n",
    "\n",
    "categorical_columns = ['Gender', 'Smoking', 'Hx Smoking', 'Hx Radiothreapy', 'Thyroid Function', \n",
    "                       'Physical Examination', 'Adenopathy', 'Pathology', 'Focality', 'Risk', \n",
    "                       'T', 'N', 'M', 'Stage', 'Response']\n",
    "\n",
    "# Obtener índices de columnas categóricas\n",
    "categorical_indices = [X_train.columns.get_loc(col) for col in categorical_columns]\n",
    "print(f\"Índices de las columnas categóricas: {categorical_indices}\")"
   ]
  },
  {
   "cell_type": "markdown",
   "id": "smote-nc",
   "metadata": {},
   "source": [
    "## 2. Optimización de Hiperparámetros de SMOTE-NC\n",
    "Usamos `GridSearchCV` para encontrar los mejores parámetros del modelo SMOTE-NC basado en AUC-ROC."
   ]
  },
  {
   "cell_type": "code",
   "execution_count": 2,
   "id": "smote-optimization",
   "metadata": {},
   "outputs": [],
   "source": [
    "from imblearn.over_sampling import SMOTENC\n",
    "from sklearn.linear_model import LogisticRegression\n",
    "from imblearn.pipeline import make_pipeline\n",
    "from sklearn.model_selection import GridSearchCV\n",
    "from sklearn.metrics import make_scorer, roc_auc_score\n",
    "\n",
    "# Asegurar que las variables objetivo sean unidimensionales\n",
    "y_train = y_train.to_numpy().ravel()\n",
    "y_test = y_test.to_numpy().ravel()\n",
    "\n",
    "# Configurar SMOTE-NC y pipeline con Logistic Regression\n",
    "smote_nc = SMOTENC(categorical_features=categorical_indices, random_state=42)\n",
    "log_reg = LogisticRegression(max_iter=1000, random_state=42)\n",
    "pipeline = make_pipeline(smote_nc, log_reg)\n",
    "\n",
    "# Hiperparámetros para optimizar\n",
    "param_grid_smotenc = {\n",
    "    'smotenc__k_neighbors': [3, 5, 7, 9],\n",
    "    'smotenc__sampling_strategy': [0.5, 0.7, 1.0]\n",
    "}\n",
    "\n",
    "# GridSearchCV para encontrar mejores parámetros\n",
    "grid_search = GridSearchCV(pipeline, param_grid_smotenc, cv=5, scoring=make_scorer(roc_auc_score), n_jobs=-1, verbose=1)\n",
    "grid_search.fit(X_train, y_train)\n",
    "\n",
    "# Imprimir los mejores parámetros\n",
    "print(\"Mejores parámetros para SMOTE-NC:\")\n",
    "print(grid_search.best_params_)\n",
    "\n",
    "# Evaluar el modelo en el conjunto de prueba\n",
    "y_pred_prob = grid_search.predict_proba(X_test)[:, 1]\n",
    "auc_roc = roc_auc_score(y_test, y_pred_prob)\n",
    "print(f\"AUC-ROC en el conjunto de prueba: {auc_roc:.4f}\")"
   ]
  },
  {
   "cell_type": "markdown",
   "id": "train-classifiers",
   "metadata": {},
   "source": [
    "## 3. Evaluación de Clasificadores con Datos Sintéticos\n",
    "Usamos los datos generados con los mejores parámetros de SMOTE-NC para entrenar clasificadores y evaluar su desempeño en el conjunto de prueba original."
   ]
  },
  {
   "cell_type": "code",
   "execution_count": 3,
   "id": "evaluate-classifiers",
   "metadata": {},
   "outputs": [],
   "source": [
    "from sklearn.ensemble import RandomForestClassifier\n",
    "from sklearn.neural_network import MLPClassifier\n",
    "from sklearn.metrics import accuracy_score, recall_score, f1_score, roc_auc_score, confusion_matrix, matthews_corrcoef\n",
    "\n",
    "# Generar datos sintéticos con los mejores parámetros\n",
    "best_smote_nc = SMOTENC(categorical_features=categorical_indices, k_neighbors=grid_search.best_params_['smotenc__k_neighbors'],\n",
    "                        sampling_strategy=grid_search.best_params_['smotenc__sampling_strategy'], random_state=42)\n",
    "X_synthetic, y_synthetic = best_smote_nc.fit_resample(X_train, y_train)\n",
    "\n",
    "# Definir clasificadores\n",
    "classifiers = {\n",
    "    'Random Forest': RandomForestClassifier(random_state=42),\n",
    "    'MLP': MLPClassifier(random_state=42, max_iter=1000),\n",
    "    'Logistic Regression': LogisticRegression(max_iter=1000, random_state=42)\n",
    "}\n",
    "\n",
    "# Lista para guardar los resultados\n",
    "results = []\n",
    "\n",
    "# Entrenar y evaluar clasificadores\n",
    "for name, clf in classifiers.items():\n",
    "    clf.fit(X_synthetic, y_synthetic)\n",
    "    y_pred = clf.predict(X_test)\n",
    "    y_pred_prob = clf.predict_proba(X_test)[:, 1]\n",
    "    \n",
    "    # Calcular métricas\n",
    "    accuracy = accuracy_score(y_test, y_pred)\n",
    "    recall = recall_score(y_test, y_pred)\n",
    "    f1 = f1_score(y_test, y_pred)\n",
    "    auc_roc = roc_auc_score(y_test, y_pred_prob)\n",
    "    tn, fp, fn, tp = confusion_matrix(y_test, y_pred).ravel()\n",
    "    specificity = tn / (tn + fp)\n",
    "    mcc = matthews_corrcoef(y_test, y_pred)\n",
    "    \n",
    "    # Guardar resultados\n",
    "    results.append({\n",
    "        'Modelo': name,\n",
    "        'Accuracy': accuracy,\n",
    "        'Recall': recall,\n",
    "        'F1-Score': f1,\n",
    "        'AUC-ROC': auc_roc,\n",
    "        'Specificity': specificity,\n",
    "        'MCC': mcc\n",
    "    })\n",
    "\n",
    "# Convertir resultados a DataFrame y guardar\n",
    "results_df = pd.DataFrame(results)\n",
    "results_df.to_csv('resultados_clasificadores_smote_nc.csv', index=False)\n",
    "results_df"
   ]
  }
 ],
 "metadata": {
  "kernelspec": {
   "display_name": "Python 3",
   "language": "python",
   "name": "python3"
  },
  "language_info": {
   "name": "python",
   "version": "3.8.10"
  }
 },
 "nbformat": 4,
 "nbformat_minor": 5
}
