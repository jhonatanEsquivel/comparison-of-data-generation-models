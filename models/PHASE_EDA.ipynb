{
 "cells": [
  {
   "cell_type": "markdown",
   "id": "b2de67ed",
   "metadata": {},
   "source": [
    "# Exploratory Data Analysis (EDA) para Investigación"
   ]
  },
  {
   "cell_type": "markdown",
   "id": "af7ac21b",
   "metadata": {},
   "source": [
    "## Paso 1: Carga y Previsualización de Datos\n",
    "Este paso incluye la carga del dataset y una primera exploración para entender las características del mismo. Usaremos un dataset sobre recurrencia del cáncer diferenciado de tiroides."
   ]
  },
  {
   "cell_type": "code",
   "execution_count": 1,
   "id": "1ac585b6",
   "metadata": {},
   "outputs": [
    {
     "data": {
      "text/html": [
       "<div>\n",
       "<style scoped>\n",
       "    .dataframe tbody tr th:only-of-type {\n",
       "        vertical-align: middle;\n",
       "    }\n",
       "\n",
       "    .dataframe tbody tr th {\n",
       "        vertical-align: top;\n",
       "    }\n",
       "\n",
       "    .dataframe thead th {\n",
       "        text-align: right;\n",
       "    }\n",
       "</style>\n",
       "<table border=\"1\" class=\"dataframe\">\n",
       "  <thead>\n",
       "    <tr style=\"text-align: right;\">\n",
       "      <th></th>\n",
       "      <th>Age</th>\n",
       "      <th>Gender</th>\n",
       "      <th>Smoking</th>\n",
       "      <th>Hx Smoking</th>\n",
       "      <th>Hx Radiothreapy</th>\n",
       "      <th>Thyroid Function</th>\n",
       "      <th>Physical Examination</th>\n",
       "      <th>Adenopathy</th>\n",
       "      <th>Pathology</th>\n",
       "      <th>Focality</th>\n",
       "      <th>Risk</th>\n",
       "      <th>T</th>\n",
       "      <th>N</th>\n",
       "      <th>M</th>\n",
       "      <th>Stage</th>\n",
       "      <th>Response</th>\n",
       "      <th>Recurred</th>\n",
       "    </tr>\n",
       "  </thead>\n",
       "  <tbody>\n",
       "    <tr>\n",
       "      <th>0</th>\n",
       "      <td>27</td>\n",
       "      <td>F</td>\n",
       "      <td>No</td>\n",
       "      <td>No</td>\n",
       "      <td>No</td>\n",
       "      <td>Euthyroid</td>\n",
       "      <td>Single nodular goiter-left</td>\n",
       "      <td>No</td>\n",
       "      <td>Micropapillary</td>\n",
       "      <td>Uni-Focal</td>\n",
       "      <td>Low</td>\n",
       "      <td>T1a</td>\n",
       "      <td>N0</td>\n",
       "      <td>M0</td>\n",
       "      <td>I</td>\n",
       "      <td>Indeterminate</td>\n",
       "      <td>No</td>\n",
       "    </tr>\n",
       "    <tr>\n",
       "      <th>1</th>\n",
       "      <td>34</td>\n",
       "      <td>F</td>\n",
       "      <td>No</td>\n",
       "      <td>Yes</td>\n",
       "      <td>No</td>\n",
       "      <td>Euthyroid</td>\n",
       "      <td>Multinodular goiter</td>\n",
       "      <td>No</td>\n",
       "      <td>Micropapillary</td>\n",
       "      <td>Uni-Focal</td>\n",
       "      <td>Low</td>\n",
       "      <td>T1a</td>\n",
       "      <td>N0</td>\n",
       "      <td>M0</td>\n",
       "      <td>I</td>\n",
       "      <td>Excellent</td>\n",
       "      <td>No</td>\n",
       "    </tr>\n",
       "    <tr>\n",
       "      <th>2</th>\n",
       "      <td>30</td>\n",
       "      <td>F</td>\n",
       "      <td>No</td>\n",
       "      <td>No</td>\n",
       "      <td>No</td>\n",
       "      <td>Euthyroid</td>\n",
       "      <td>Single nodular goiter-right</td>\n",
       "      <td>No</td>\n",
       "      <td>Micropapillary</td>\n",
       "      <td>Uni-Focal</td>\n",
       "      <td>Low</td>\n",
       "      <td>T1a</td>\n",
       "      <td>N0</td>\n",
       "      <td>M0</td>\n",
       "      <td>I</td>\n",
       "      <td>Excellent</td>\n",
       "      <td>No</td>\n",
       "    </tr>\n",
       "    <tr>\n",
       "      <th>3</th>\n",
       "      <td>62</td>\n",
       "      <td>F</td>\n",
       "      <td>No</td>\n",
       "      <td>No</td>\n",
       "      <td>No</td>\n",
       "      <td>Euthyroid</td>\n",
       "      <td>Single nodular goiter-right</td>\n",
       "      <td>No</td>\n",
       "      <td>Micropapillary</td>\n",
       "      <td>Uni-Focal</td>\n",
       "      <td>Low</td>\n",
       "      <td>T1a</td>\n",
       "      <td>N0</td>\n",
       "      <td>M0</td>\n",
       "      <td>I</td>\n",
       "      <td>Excellent</td>\n",
       "      <td>No</td>\n",
       "    </tr>\n",
       "    <tr>\n",
       "      <th>4</th>\n",
       "      <td>62</td>\n",
       "      <td>F</td>\n",
       "      <td>No</td>\n",
       "      <td>No</td>\n",
       "      <td>No</td>\n",
       "      <td>Euthyroid</td>\n",
       "      <td>Multinodular goiter</td>\n",
       "      <td>No</td>\n",
       "      <td>Micropapillary</td>\n",
       "      <td>Multi-Focal</td>\n",
       "      <td>Low</td>\n",
       "      <td>T1a</td>\n",
       "      <td>N0</td>\n",
       "      <td>M0</td>\n",
       "      <td>I</td>\n",
       "      <td>Excellent</td>\n",
       "      <td>No</td>\n",
       "    </tr>\n",
       "  </tbody>\n",
       "</table>\n",
       "</div>"
      ],
      "text/plain": [
       "   Age Gender Smoking Hx Smoking Hx Radiothreapy Thyroid Function  \\\n",
       "0   27      F      No         No              No        Euthyroid   \n",
       "1   34      F      No        Yes              No        Euthyroid   \n",
       "2   30      F      No         No              No        Euthyroid   \n",
       "3   62      F      No         No              No        Euthyroid   \n",
       "4   62      F      No         No              No        Euthyroid   \n",
       "\n",
       "          Physical Examination Adenopathy       Pathology     Focality Risk  \\\n",
       "0   Single nodular goiter-left         No  Micropapillary    Uni-Focal  Low   \n",
       "1          Multinodular goiter         No  Micropapillary    Uni-Focal  Low   \n",
       "2  Single nodular goiter-right         No  Micropapillary    Uni-Focal  Low   \n",
       "3  Single nodular goiter-right         No  Micropapillary    Uni-Focal  Low   \n",
       "4          Multinodular goiter         No  Micropapillary  Multi-Focal  Low   \n",
       "\n",
       "     T   N   M Stage       Response Recurred  \n",
       "0  T1a  N0  M0     I  Indeterminate       No  \n",
       "1  T1a  N0  M0     I      Excellent       No  \n",
       "2  T1a  N0  M0     I      Excellent       No  \n",
       "3  T1a  N0  M0     I      Excellent       No  \n",
       "4  T1a  N0  M0     I      Excellent       No  "
      ]
     },
     "execution_count": 1,
     "metadata": {},
     "output_type": "execute_result"
    }
   ],
   "source": [
    "from ucimlrepo import fetch_ucirepo\n",
    "import pandas as pd\n",
    "import seaborn as sns\n",
    "import matplotlib.pyplot as plt\n",
    "from sklearn.model_selection import train_test_split\n",
    "from sklearn.preprocessing import LabelEncoder\n",
    "\n",
    "# Descargar el dataset desde UCI Machine Learning Repository\n",
    "differentiated_thyroid_cancer_recurrence = fetch_ucirepo(id=915)\n",
    "\n",
    "# Cargar las características (X) y la variable objetivo (y)\n",
    "X = differentiated_thyroid_cancer_recurrence.data.features\n",
    "y = differentiated_thyroid_cancer_recurrence.data.targets\n",
    "\n",
    "# Combinar las características y la variable objetivo en un solo DataFrame\n",
    "df = pd.concat([X, y], axis=1)\n",
    "df.head()"
   ]
  },
  {
   "cell_type": "markdown",
   "id": "1b7fe19c",
   "metadata": {},
   "source": [
    "## Paso 2: Análisis Exploratorio Inicial\n",
    "En esta sección, examinamos la estructura de los datos, verificamos tipos de columnas, valores faltantes y distribución de las variables. También visualizamos la distribución de la variable objetivo."
   ]
  },
  {
   "cell_type": "code",
   "execution_count": 2,
   "id": "47815f37",
   "metadata": {},
   "outputs": [
    {
     "name": "stdout",
     "output_type": "stream",
     "text": [
      "Primeras filas del dataset:\n",
      "    Age Gender Smoking Hx Smoking Hx Radiothreapy Thyroid Function  \\\n",
      "0   27      F      No         No              No        Euthyroid   \n",
      "1   34      F      No        Yes              No        Euthyroid   \n",
      "2   30      F      No         No              No        Euthyroid   \n",
      "3   62      F      No         No              No        Euthyroid   \n",
      "4   62      F      No         No              No        Euthyroid   \n",
      "\n",
      "          Physical Examination Adenopathy       Pathology     Focality Risk  \\\n",
      "0   Single nodular goiter-left         No  Micropapillary    Uni-Focal  Low   \n",
      "1          Multinodular goiter         No  Micropapillary    Uni-Focal  Low   \n",
      "2  Single nodular goiter-right         No  Micropapillary    Uni-Focal  Low   \n",
      "3  Single nodular goiter-right         No  Micropapillary    Uni-Focal  Low   \n",
      "4          Multinodular goiter         No  Micropapillary  Multi-Focal  Low   \n",
      "\n",
      "     T   N   M Stage       Response Recurred  \n",
      "0  T1a  N0  M0     I  Indeterminate       No  \n",
      "1  T1a  N0  M0     I      Excellent       No  \n",
      "2  T1a  N0  M0     I      Excellent       No  \n",
      "3  T1a  N0  M0     I      Excellent       No  \n",
      "4  T1a  N0  M0     I      Excellent       No  \n",
      "\n",
      "Información del dataset:\n",
      "\n",
      "<class 'pandas.core.frame.DataFrame'>\n",
      "RangeIndex: 383 entries, 0 to 382\n",
      "Data columns (total 17 columns):\n",
      " #   Column                Non-Null Count  Dtype \n",
      "---  ------                --------------  ----- \n",
      " 0   Age                   383 non-null    int64 \n",
      " 1   Gender                383 non-null    object\n",
      " 2   Smoking               383 non-null    object\n",
      " 3   Hx Smoking            383 non-null    object\n",
      " 4   Hx Radiothreapy       383 non-null    object\n",
      " 5   Thyroid Function      383 non-null    object\n",
      " 6   Physical Examination  383 non-null    object\n",
      " 7   Adenopathy            383 non-null    object\n",
      " 8   Pathology             383 non-null    object\n",
      " 9   Focality              383 non-null    object\n",
      " 10  Risk                  383 non-null    object\n",
      " 11  T                     383 non-null    object\n",
      " 12  N                     383 non-null    object\n",
      " 13  M                     383 non-null    object\n",
      " 14  Stage                 383 non-null    object\n",
      " 15  Response              383 non-null    object\n",
      " 16  Recurred              383 non-null    object\n",
      "dtypes: int64(1), object(16)\n",
      "memory usage: 51.0+ KB\n",
      "None\n",
      "\n",
      "Estadísticas descriptivas:\n",
      "\n",
      "               Age Gender Smoking Hx Smoking Hx Radiothreapy Thyroid Function  \\\n",
      "count   383.000000    383     383        383             383              383   \n",
      "unique         NaN      2       2          2               2                5   \n",
      "top            NaN      F      No         No              No        Euthyroid   \n",
      "freq           NaN    312     334        355             376              332   \n",
      "mean     40.866841    NaN     NaN        NaN             NaN              NaN   \n",
      "std      15.134494    NaN     NaN        NaN             NaN              NaN   \n",
      "min      15.000000    NaN     NaN        NaN             NaN              NaN   \n",
      "25%      29.000000    NaN     NaN        NaN             NaN              NaN   \n",
      "50%      37.000000    NaN     NaN        NaN             NaN              NaN   \n",
      "75%      51.000000    NaN     NaN        NaN             NaN              NaN   \n",
      "max      82.000000    NaN     NaN        NaN             NaN              NaN   \n",
      "\n",
      "       Physical Examination Adenopathy  Pathology   Focality Risk    T    N  \\\n",
      "count                   383        383        383        383  383  383  383   \n",
      "unique                    5          6          4          2    3    7    3   \n",
      "top     Multinodular goiter         No  Papillary  Uni-Focal  Low   T2   N0   \n",
      "freq                    140        277        287        247  249  151  268   \n",
      "mean                    NaN        NaN        NaN        NaN  NaN  NaN  NaN   \n",
      "std                     NaN        NaN        NaN        NaN  NaN  NaN  NaN   \n",
      "min                     NaN        NaN        NaN        NaN  NaN  NaN  NaN   \n",
      "25%                     NaN        NaN        NaN        NaN  NaN  NaN  NaN   \n",
      "50%                     NaN        NaN        NaN        NaN  NaN  NaN  NaN   \n",
      "75%                     NaN        NaN        NaN        NaN  NaN  NaN  NaN   \n",
      "max                     NaN        NaN        NaN        NaN  NaN  NaN  NaN   \n",
      "\n",
      "          M Stage   Response Recurred  \n",
      "count   383   383        383      383  \n",
      "unique    2     5          4        2  \n",
      "top      M0     I  Excellent       No  \n",
      "freq    365   333        208      275  \n",
      "mean    NaN   NaN        NaN      NaN  \n",
      "std     NaN   NaN        NaN      NaN  \n",
      "min     NaN   NaN        NaN      NaN  \n",
      "25%     NaN   NaN        NaN      NaN  \n",
      "50%     NaN   NaN        NaN      NaN  \n",
      "75%     NaN   NaN        NaN      NaN  \n",
      "max     NaN   NaN        NaN      NaN  \n"
     ]
    },
    {
     "data": {
      "image/png": "[encoded data removed]",
      "text/plain": [
       "<Figure size 576x432 with 1 Axes>"
      ]
     },
     "metadata": {
      "needs_background": "light"
     },
     "output_type": "display_data"
    }
   ],
   "source": [
    "# Resumen de las primeras filas\n",
    "print(\"Primeras filas del dataset:\\n\", df.head())\n",
    "\n",
    "# Información sobre las columnas y tipos de datos\n",
    "print(\"\\nInformación del dataset:\\n\")\n",
    "print(df.info())\n",
    "\n",
    "# Estadísticas descriptivas generales\n",
    "print(\"\\nEstadísticas descriptivas:\\n\")\n",
    "print(df.describe(include='all'))\n",
    "\n",
    "# Visualización de la distribución de la variable objetivo\n",
    "plt.figure(figsize=(8, 6))\n",
    "sns.countplot(x='Recurred', data=df)\n",
    "plt.title('Distribución de la variable objetivo')\n",
    "plt.show()\n"
   ]
  },
  {
   "cell_type": "markdown",
   "id": "079d0cbb",
   "metadata": {},
   "source": [
    "## Paso 3: Preprocesamiento de Datos\n",
    "### Eliminación de Columnas Irrelevantes\n",
    "Eliminamos columnas que no son relevantes para el análisis, como identificadores únicos."
   ]
  },
  {
   "cell_type": "code",
   "execution_count": 3,
   "id": "7281a75b",
   "metadata": {},
   "outputs": [
    {
     "name": "stdout",
     "output_type": "stream",
     "text": [
      "Dataset después de eliminar columnas irrelevantes:\n",
      "    Age Gender Smoking Hx Smoking Hx Radiothreapy Thyroid Function  \\\n",
      "0   27      F      No         No              No        Euthyroid   \n",
      "1   34      F      No        Yes              No        Euthyroid   \n",
      "2   30      F      No         No              No        Euthyroid   \n",
      "3   62      F      No         No              No        Euthyroid   \n",
      "4   62      F      No         No              No        Euthyroid   \n",
      "\n",
      "          Physical Examination Adenopathy       Pathology     Focality Risk  \\\n",
      "0   Single nodular goiter-left         No  Micropapillary    Uni-Focal  Low   \n",
      "1          Multinodular goiter         No  Micropapillary    Uni-Focal  Low   \n",
      "2  Single nodular goiter-right         No  Micropapillary    Uni-Focal  Low   \n",
      "3  Single nodular goiter-right         No  Micropapillary    Uni-Focal  Low   \n",
      "4          Multinodular goiter         No  Micropapillary  Multi-Focal  Low   \n",
      "\n",
      "     T   N   M Stage       Response Recurred  \n",
      "0  T1a  N0  M0     I  Indeterminate       No  \n",
      "1  T1a  N0  M0     I      Excellent       No  \n",
      "2  T1a  N0  M0     I      Excellent       No  \n",
      "3  T1a  N0  M0     I      Excellent       No  \n",
      "4  T1a  N0  M0     I      Excellent       No  \n"
     ]
    }
   ],
   "source": [
    "# Eliminar columnas irrelevantes si existen\n",
    "df = df.drop(columns=['ID', 'Ubigeo'], errors='ignore')\n",
    "print(\"Dataset después de eliminar columnas irrelevantes:\\n\", df.head())"
   ]
  },
  {
   "cell_type": "markdown",
   "id": "2e17c40c",
   "metadata": {},
   "source": [
    "### Manejo de Valores Nulos\n",
    "Imputamos valores faltantes utilizando la mediana para variables numéricas y la moda para variables categóricas."
   ]
  },
  {
   "cell_type": "code",
   "execution_count": 4,
   "id": "0615a352",
   "metadata": {},
   "outputs": [
    {
     "name": "stdout",
     "output_type": "stream",
     "text": [
      "Age                     0\n",
      "Gender                  0\n",
      "Smoking                 0\n",
      "Hx Smoking              0\n",
      "Hx Radiothreapy         0\n",
      "Thyroid Function        0\n",
      "Physical Examination    0\n",
      "Adenopathy              0\n",
      "Pathology               0\n",
      "Focality                0\n",
      "Risk                    0\n",
      "T                       0\n",
      "N                       0\n",
      "M                       0\n",
      "Stage                   0\n",
      "Response                0\n",
      "Recurred                0\n",
      "dtype: int64\n"
     ]
    }
   ],
   "source": [
    "# Separar columnas numéricas y categóricas\n",
    "numeric_cols = df.select_dtypes(include=['int64', 'float64']).columns\n",
    "categorical_cols = df.select_dtypes(include=['object', 'category']).columns\n",
    "\n",
    "# Imputar valores faltantes\n",
    "df[numeric_cols] = df[numeric_cols].fillna(df[numeric_cols].median())\n",
    "df[categorical_cols] = df[categorical_cols].fillna(df[categorical_cols].mode().iloc[0])\n",
    "\n",
    "# Verificar que ya no haya valores nulos\n",
    "print(df.isnull().sum())"
   ]
  },
  {
   "cell_type": "markdown",
   "id": "d8e530b6",
   "metadata": {},
   "source": [
    "### División en Conjuntos de Entrenamiento y Prueba\n",
    "Dividimos los datos en conjuntos de entrenamiento (80%) y prueba (20%), asegurando la estratificación en la variable objetivo."
   ]
  },
  {
   "cell_type": "code",
   "execution_count": 5,
   "id": "5feada46",
   "metadata": {},
   "outputs": [
    {
     "name": "stdout",
     "output_type": "stream",
     "text": [
      "Formas de los conjuntos:\n",
      "X_train: (306, 16) X_test: (77, 16)\n"
     ]
    }
   ],
   "source": [
    "# Definir características y variable objetivo\n",
    "X = df.drop(columns=['Recurred'])\n",
    "y = df['Recurred']\n",
    "\n",
    "# Dividir los datos\n",
    "X_train, X_test, y_train, y_test = train_test_split(X, y, test_size=0.2, stratify=y, random_state=42)\n",
    "print(\"Formas de los conjuntos:\")\n",
    "print(\"X_train:\", X_train.shape, \"X_test:\", X_test.shape)"
   ]
  },
  {
   "cell_type": "markdown",
   "id": "24bc0067",
   "metadata": {},
   "source": [
    "### Codificación de Variables Categóricas\n",
    "Convertimos las variables categóricas a formato numérico para que sean compatibles con algoritmos de machine learning."
   ]
  },
  {
   "cell_type": "code",
   "execution_count": 6,
   "id": "4daa358a",
   "metadata": {},
   "outputs": [],
   "source": [
    "# Codificar variables categóricas\n",
    "label_encoders = {}\n",
    "for col in X_train.select_dtypes(include=['object']).columns:\n",
    "    le = LabelEncoder()\n",
    "    X_train[col] = le.fit_transform(X_train[col])\n",
    "    X_test[col] = le.transform(X_test[col])\n",
    "    label_encoders[col] = le\n",
    "\n",
    "# Codificar la variable objetivo\n",
    "le_target = LabelEncoder()\n",
    "y_train = le_target.fit_transform(y_train)\n",
    "y_test = le_target.transform(y_test)\n"
   ]
  },
  {
   "cell_type": "markdown",
   "id": "97153f3a",
   "metadata": {},
   "source": [
    "### Verificación Final de Conjuntos\n",
    "Comprobamos la distribución de la variable objetivo en los conjuntos de entrenamiento y prueba."
   ]
  },
  {
   "cell_type": "code",
   "execution_count": 8,
   "id": "779005ea",
   "metadata": {},
   "outputs": [
    {
     "name": "stdout",
     "output_type": "stream",
     "text": [
      "Distribución en el conjunto de entrenamiento: 0    220\n",
      "1     86\n",
      "Name: count, dtype: int64\n",
      "Distribución en el conjunto de prueba: 0    55\n",
      "1    22\n",
      "Name: count, dtype: int64\n"
     ]
    }
   ],
   "source": [
    "# Verificar la distribución de la variable objetivo\n",
    "print(\"Distribución en el conjunto de entrenamiento:\", pd.Series(y_train).value_counts())\n",
    "print(\"Distribución en el conjunto de prueba:\", pd.Series(y_test).value_counts())"
   ]
  },
  {
   "cell_type": "code",
   "execution_count": 9,
   "id": "172f33b2-835e-4d3f-b604-28a5a02a8fb5",
   "metadata": {},
   "outputs": [
    {
     "data": {
      "image/png": "[encoded data removed]",
      "text/plain": [
       "<Figure size 1008x432 with 2 Axes>"
      ]
     },
     "metadata": {
      "needs_background": "light"
     },
     "output_type": "display_data"
    }
   ],
   "source": [
    "# Graficar la distribución de la variable objetivo en los conjuntos de entrenamiento y prueba\n",
    "fig, axes = plt.subplots(1, 2, figsize=(14, 6))\n",
    "sns.countplot(x=y_train, ax=axes[0])\n",
    "axes[0].set_title('Distribución en el conjunto de entrenamiento')\n",
    "sns.countplot(x=y_test, ax=axes[1])\n",
    "axes[1].set_title('Distribución en el conjunto de prueba')\n",
    "plt.show()"
   ]
  },
  {
   "cell_type": "markdown",
   "id": "4b9e841d",
   "metadata": {},
   "source": [
    "## Paso 4: Guardar los Datos Preprocesados\n",
    "Guardamos los conjuntos preprocesados en archivos CSV para futuras etapas de análisis o modelado."
   ]
  },
  {
   "cell_type": "code",
   "execution_count": 10,
   "id": "02c7b5ee",
   "metadata": {},
   "outputs": [
    {
     "name": "stdout",
     "output_type": "stream",
     "text": [
      "Conjuntos preprocesados guardados exitosamente.\n"
     ]
    }
   ],
   "source": [
    "# Guardar conjuntos preprocesados\n",
    "X_train.to_csv('X_train.csv', index=False)\n",
    "X_test.to_csv('X_test.csv', index=False)\n",
    "pd.DataFrame(y_train, columns=['Recurred']).to_csv('y_train.csv', index=False)\n",
    "pd.DataFrame(y_test, columns=['Recurred']).to_csv('y_test.csv', index=False)\n",
    "print(\"Conjuntos preprocesados guardados exitosamente.\")"
   ]
  },
  {
   "cell_type": "markdown",
   "id": "fc8ed4da-0906-453b-8ca1-cc7976094280",
   "metadata": {},
   "source": [
    "## Paso 5: Evaluación Inicial de Modelos de Clasificación\n",
    "Evaluamos el rendimiento de clasificadores estándar en los datos originales."
   ]
  },
  {
   "cell_type": "code",
   "execution_count": 18,
   "id": "c00ed63a-68b4-4091-a906-53484bd88ef0",
   "metadata": {},
   "outputs": [],
   "source": [
    "from sklearn.ensemble import RandomForestClassifier\n",
    "from sklearn.neural_network import MLPClassifier\n",
    "from sklearn.linear_model import LogisticRegression\n",
    "from IPython.display import display\n",
    "from sklearn.metrics import roc_auc_score, f1_score, accuracy_score, recall_score, confusion_matrix, matthews_corrcoef"
   ]
  },
  {
   "cell_type": "code",
   "execution_count": 12,
   "id": "11e17c84-5fd6-4163-89bc-a6ab45017b20",
   "metadata": {},
   "outputs": [],
   "source": [
    "# Cargar los conjuntos de entrenamiento y prueba\n",
    "X_train = pd.read_csv('X_train.csv')\n",
    "X_test = pd.read_csv('X_test.csv')\n",
    "y_train = pd.read_csv('y_train.csv').squeeze()\n",
    "y_test = pd.read_csv('y_test.csv').squeeze()"
   ]
  },
  {
   "cell_type": "code",
   "execution_count": 13,
   "id": "b5904a94-7686-462d-bf59-fcea51db0f81",
   "metadata": {},
   "outputs": [],
   "source": [
    "classifiers = {\n",
    "    'Random Forest': RandomForestClassifier(random_state=42),\n",
    "    'MLP': MLPClassifier(random_state=42, max_iter=1000),\n",
    "    'Logistic Regression': LogisticRegression(max_iter=1000, random_state=42)\n",
    "}"
   ]
  },
  {
   "cell_type": "code",
   "execution_count": 14,
   "id": "ae2346f2-66f2-43b0-80f0-89d38458050b",
   "metadata": {},
   "outputs": [],
   "source": [
    "# Lista para guardar los resultados\n",
    "results = []"
   ]
  },
  {
   "cell_type": "code",
   "execution_count": 19,
   "id": "0e30f12a-4c02-4492-ae93-49221f36bff7",
   "metadata": {},
   "outputs": [],
   "source": [
    "# Entrenar y evaluar cada clasificador en los datos originales (sin generar ni balancear datos)\n",
    "for name, clf in classifiers.items():\n",
    "    clf.fit(X_train, y_train)  # Entrenar el clasificador en los datos originales\n",
    "    \n",
    "    # Predicciones en el conjunto de prueba original\n",
    "    y_pred = clf.predict(X_test)\n",
    "    y_pred_prob = clf.predict_proba(X_test)[:, 1]  # Obtener probabilidades para AUC-ROC\n",
    "    \n",
    "    # Calcular las métricas\n",
    "    accuracy = accuracy_score(y_test, y_pred)\n",
    "    recall = recall_score(y_test, y_pred)\n",
    "    f1 = f1_score(y_test, y_pred)\n",
    "    auc_roc = roc_auc_score(y_test, y_pred_prob)\n",
    "    \n",
    "    # Specificity (Verdaderos Negativos / Total de Negativos)\n",
    "    tn, fp, fn, tp = confusion_matrix(y_test, y_pred).ravel()\n",
    "    specificity = tn / (tn + fp)\n",
    "    \n",
    "    # MCC (Matthews Correlation Coefficient)\n",
    "    mcc = matthews_corrcoef(y_test, y_pred)\n",
    "    \n",
    "    # Guardar los resultados en un diccionario\n",
    "    results.append({\n",
    "        'Modelo': name,\n",
    "        'Accuracy': round(accuracy, 4),\n",
    "        'Recall': round(recall, 4),\n",
    "        'F1-Score': round(f1, 4),\n",
    "        'AUC-ROC': round(auc_roc, 4),\n",
    "        'Specificity': round(specificity, 4),\n",
    "        'MCC': round(mcc, 4)\n",
    "    })"
   ]
  },
  {
   "cell_type": "code",
   "execution_count": 20,
   "id": "0eca3b70-3508-4b19-ba0f-8b9a83c7006e",
   "metadata": {},
   "outputs": [],
   "source": [
    "# Crear un DataFrame a partir de los resultados\n",
    "results_df = pd.DataFrame(results)"
   ]
  },
  {
   "cell_type": "code",
   "execution_count": 21,
   "id": "fd7914e9-3996-43a1-bee2-7ca31dac5402",
   "metadata": {},
   "outputs": [
    {
     "name": "stdout",
     "output_type": "stream",
     "text": [
      "Resultados de los clasificadores:\n"
     ]
    },
    {
     "data": {
      "text/html": [
       "<div>\n",
       "<style scoped>\n",
       "    .dataframe tbody tr th:only-of-type {\n",
       "        vertical-align: middle;\n",
       "    }\n",
       "\n",
       "    .dataframe tbody tr th {\n",
       "        vertical-align: top;\n",
       "    }\n",
       "\n",
       "    .dataframe thead th {\n",
       "        text-align: right;\n",
       "    }\n",
       "</style>\n",
       "<table border=\"1\" class=\"dataframe\">\n",
       "  <thead>\n",
       "    <tr style=\"text-align: right;\">\n",
       "      <th></th>\n",
       "      <th>Modelo</th>\n",
       "      <th>Accuracy</th>\n",
       "      <th>Recall</th>\n",
       "      <th>F1-Score</th>\n",
       "      <th>AUC-ROC</th>\n",
       "      <th>Specificity</th>\n",
       "      <th>MCC</th>\n",
       "    </tr>\n",
       "  </thead>\n",
       "  <tbody>\n",
       "    <tr>\n",
       "      <th>0</th>\n",
       "      <td>Random Forest</td>\n",
       "      <td>0.948052</td>\n",
       "      <td>0.863636</td>\n",
       "      <td>0.904762</td>\n",
       "      <td>0.987190</td>\n",
       "      <td>0.981818</td>\n",
       "      <td>0.871025</td>\n",
       "    </tr>\n",
       "    <tr>\n",
       "      <th>1</th>\n",
       "      <td>MLP</td>\n",
       "      <td>0.922078</td>\n",
       "      <td>0.909091</td>\n",
       "      <td>0.869565</td>\n",
       "      <td>0.980992</td>\n",
       "      <td>0.927273</td>\n",
       "      <td>0.815726</td>\n",
       "    </tr>\n",
       "    <tr>\n",
       "      <th>2</th>\n",
       "      <td>Logistic Regression</td>\n",
       "      <td>0.922078</td>\n",
       "      <td>0.909091</td>\n",
       "      <td>0.869565</td>\n",
       "      <td>0.970248</td>\n",
       "      <td>0.927273</td>\n",
       "      <td>0.815726</td>\n",
       "    </tr>\n",
       "    <tr>\n",
       "      <th>3</th>\n",
       "      <td>Random Forest</td>\n",
       "      <td>0.948100</td>\n",
       "      <td>0.863600</td>\n",
       "      <td>0.904800</td>\n",
       "      <td>0.987200</td>\n",
       "      <td>0.981800</td>\n",
       "      <td>0.871000</td>\n",
       "    </tr>\n",
       "    <tr>\n",
       "      <th>4</th>\n",
       "      <td>MLP</td>\n",
       "      <td>0.922100</td>\n",
       "      <td>0.909100</td>\n",
       "      <td>0.869600</td>\n",
       "      <td>0.981000</td>\n",
       "      <td>0.927300</td>\n",
       "      <td>0.815700</td>\n",
       "    </tr>\n",
       "    <tr>\n",
       "      <th>5</th>\n",
       "      <td>Logistic Regression</td>\n",
       "      <td>0.922100</td>\n",
       "      <td>0.909100</td>\n",
       "      <td>0.869600</td>\n",
       "      <td>0.970200</td>\n",
       "      <td>0.927300</td>\n",
       "      <td>0.815700</td>\n",
       "    </tr>\n",
       "    <tr>\n",
       "      <th>6</th>\n",
       "      <td>Random Forest</td>\n",
       "      <td>0.948100</td>\n",
       "      <td>0.863600</td>\n",
       "      <td>0.904800</td>\n",
       "      <td>0.987200</td>\n",
       "      <td>0.981800</td>\n",
       "      <td>0.871000</td>\n",
       "    </tr>\n",
       "    <tr>\n",
       "      <th>7</th>\n",
       "      <td>MLP</td>\n",
       "      <td>0.922100</td>\n",
       "      <td>0.909100</td>\n",
       "      <td>0.869600</td>\n",
       "      <td>0.981000</td>\n",
       "      <td>0.927300</td>\n",
       "      <td>0.815700</td>\n",
       "    </tr>\n",
       "    <tr>\n",
       "      <th>8</th>\n",
       "      <td>Logistic Regression</td>\n",
       "      <td>0.922100</td>\n",
       "      <td>0.909100</td>\n",
       "      <td>0.869600</td>\n",
       "      <td>0.970200</td>\n",
       "      <td>0.927300</td>\n",
       "      <td>0.815700</td>\n",
       "    </tr>\n",
       "  </tbody>\n",
       "</table>\n",
       "</div>"
      ],
      "text/plain": [
       "                Modelo  Accuracy    Recall  F1-Score   AUC-ROC  Specificity  \\\n",
       "0        Random Forest  0.948052  0.863636  0.904762  0.987190     0.981818   \n",
       "1                  MLP  0.922078  0.909091  0.869565  0.980992     0.927273   \n",
       "2  Logistic Regression  0.922078  0.909091  0.869565  0.970248     0.927273   \n",
       "3        Random Forest  0.948100  0.863600  0.904800  0.987200     0.981800   \n",
       "4                  MLP  0.922100  0.909100  0.869600  0.981000     0.927300   \n",
       "5  Logistic Regression  0.922100  0.909100  0.869600  0.970200     0.927300   \n",
       "6        Random Forest  0.948100  0.863600  0.904800  0.987200     0.981800   \n",
       "7                  MLP  0.922100  0.909100  0.869600  0.981000     0.927300   \n",
       "8  Logistic Regression  0.922100  0.909100  0.869600  0.970200     0.927300   \n",
       "\n",
       "        MCC  \n",
       "0  0.871025  \n",
       "1  0.815726  \n",
       "2  0.815726  \n",
       "3  0.871000  \n",
       "4  0.815700  \n",
       "5  0.815700  \n",
       "6  0.871000  \n",
       "7  0.815700  \n",
       "8  0.815700  "
      ]
     },
     "metadata": {},
     "output_type": "display_data"
    }
   ],
   "source": [
    "# Mostrar la tabla de resultados\n",
    "print(\"Resultados de los clasificadores:\")\n",
    "display(results_df)"
   ]
  },
  {
   "cell_type": "code",
   "execution_count": 22,
   "id": "219bc23c-9874-4590-ad85-d0d2180a8b4f",
   "metadata": {},
   "outputs": [
    {
     "name": "stdout",
     "output_type": "stream",
     "text": [
      "Resultados guardados exitosamente en 'resultados_clasificadores_sin_balanceo.csv'\n"
     ]
    }
   ],
   "source": [
    "results_df.to_csv('resultados_clasificadores_sin_balanceo.csv', index=False)\n",
    "print(\"Resultados guardados exitosamente en 'resultados_clasificadores_sin_balanceo.csv'\")"
   ]
  }
 ],
 "metadata": {
  "kernelspec": {
   "display_name": "Python 3 (ipykernel)",
   "language": "python",
   "name": "python3"
  },
  "language_info": {
   "codemirror_mode": {
    "name": "ipython",
    "version": 3
   },
   "file_extension": ".py",
   "mimetype": "text/x-python",
   "name": "python",
   "nbconvert_exporter": "python",
   "pygments_lexer": "ipython3",
   "version": "3.10.12"
  }
 },
 "nbformat": 4,
 "nbformat_minor": 5
}
